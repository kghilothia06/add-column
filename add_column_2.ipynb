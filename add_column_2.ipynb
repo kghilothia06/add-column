{
  "nbformat": 4,
  "nbformat_minor": 0,
  "metadata": {
    "colab": {
      "name": "add-column-2.ipynb",
      "provenance": [],
      "authorship_tag": "ABX9TyOnxhodoAT89sb0nsDHYKCw",
      "include_colab_link": true
    },
    "kernelspec": {
      "name": "python3",
      "display_name": "Python 3"
    }
  },
  "cells": [
    {
      "cell_type": "markdown",
      "metadata": {
        "id": "view-in-github",
        "colab_type": "text"
      },
      "source": [
        "<a href=\"https://colab.research.google.com/github/kghilothia06/add-column/blob/main/add_column_2.ipynb\" target=\"_parent\"><img src=\"https://colab.research.google.com/assets/colab-badge.svg\" alt=\"Open In Colab\"/></a>"
      ]
    },
    {
      "cell_type": "code",
      "metadata": {
        "id": "pC6rEXcOnap-"
      },
      "source": [
        "#functionality to add a new column: 'number of branches'\r\n",
        "#df is the dataframe for testing\r\n",
        "def add_col_number_of_branches(df):\r\n",
        "  #initialize a dictionary with a tuple of 'branch_id' and 'parent_id' as key \r\n",
        "  vis = {}\r\n",
        "  for i in range(0,len(df)):\r\n",
        "    #set the value for each pair as 'False' as\r\n",
        "    #all are initially unvisited\r\n",
        "    vis[(df['branch_id'][i],df['parent_id'][i])] = False\r\n",
        "\r\n",
        "  #initialize a dictionary to keep track of frequency of occurence of each parent_id\r\n",
        "  freq={}\r\n",
        "  for i in df['parent_id']:\r\n",
        "    #initially all values are set to 0\r\n",
        "    freq[i] = 0\r\n",
        "\r\n",
        "  #traverse the 'branch_id' column to update frequencies of 'parent_id'\r\n",
        "  for i in range(0,len(df)):\r\n",
        "    #if pair is unvisited\r\n",
        "    if vis[(df['branch_id'][i],df['parent_id'][i])] == False:\r\n",
        "      #mark it visited and update freq for corresponding 'parent_id'\r\n",
        "      vis[(df['branch_id'][i],df['parent_id'][i])] = True\r\n",
        "      freq[df['parent_id'][i]] = freq[df['parent_id'][i]] + 1\r\n",
        "    \r\n",
        "  #updating the 'number_of_branches' column\r\n",
        "  for i in range(0,len(df)):\r\n",
        "    df['number_of_branches'][i] = freq[df['parent_id'][i]]\r\n",
        "\r\n",
        "\r\n",
        "  #return freq,vis"
      ],
      "execution_count": 1,
      "outputs": []
    },
    {
      "cell_type": "code",
      "metadata": {
        "id": "QLSZquZ3M0cU"
      },
      "source": [
        "#functionality to add a new column: 'number of countries'\r\n",
        "#df is the dataframe for testing\r\n",
        "def add_col_number_of_countries(df):\r\n",
        "  #initialize a dictionary with a tuple of 'country' and 'parent_id' as key \r\n",
        "  vis = {}\r\n",
        "  for i in range(0,len(df)):\r\n",
        "    #set the value for each pair as 'False' as\r\n",
        "    #all are initially unvisited\r\n",
        "    vis[(df['country'][i],df['parent_id'][i])] = False\r\n",
        "\r\n",
        "  #initialize a dictionary to keep track of frequency of occurence of each parent_id\r\n",
        "  freq={}\r\n",
        "  for i in df['parent_id']:\r\n",
        "    #initially all values are set to 0\r\n",
        "    freq[i] = 0\r\n",
        "\r\n",
        "  #traverse the 'country' column to update frequencies of 'parent_id'\r\n",
        "  for i in range(0,len(df)):\r\n",
        "    #if pair is unvisited\r\n",
        "    if vis[(df['country'][i],df['parent_id'][i])] == False:\r\n",
        "      #mark it visited and update freq for corresponding 'parent_id'\r\n",
        "      vis[(df['country'][i],df['parent_id'][i])] = True\r\n",
        "      freq[df['parent_id'][i]] = freq[df['parent_id'][i]] + 1\r\n",
        "    \r\n",
        "  #updating the 'number_of_countires' column\r\n",
        "  for i in range(0,len(df)):\r\n",
        "    df['number_of_countries'][i] = freq[df['parent_id'][i]]\r\n",
        "\r\n",
        "\r\n",
        "  #return freq,vis"
      ],
      "execution_count": 2,
      "outputs": []
    },
    {
      "cell_type": "code",
      "metadata": {
        "id": "S5VEFGoZoXUP"
      },
      "source": [
        "import pandas as pd"
      ],
      "execution_count": 3,
      "outputs": []
    },
    {
      "cell_type": "code",
      "metadata": {
        "id": "ahIjoXGXoZvI"
      },
      "source": [
        "df = pd.read_excel('/content/Branches2.xlsx')"
      ],
      "execution_count": 4,
      "outputs": []
    },
    {
      "cell_type": "code",
      "metadata": {
        "id": "8QnsHe3PumEY"
      },
      "source": [
        "#replace null values with 0\r\n",
        "df['number_of_branches'].fillna(0 , inplace=True)\r\n",
        "df['number_of_branches'] = df['number_of_branches'].astype(int)\r\n",
        "\r\n",
        "df['number_of_countries'].fillna(0 , inplace=True)\r\n",
        "df['number_of_countries'] = df['number_of_countries'].astype(int)"
      ],
      "execution_count": 5,
      "outputs": []
    },
    {
      "cell_type": "code",
      "metadata": {
        "colab": {
          "base_uri": "https://localhost:8080/"
        },
        "id": "CLq4n3oeur9k",
        "outputId": "c20da990-388f-41f7-cecd-e3b4d81ea9b8"
      },
      "source": [
        "df.dtypes"
      ],
      "execution_count": 6,
      "outputs": [
        {
          "output_type": "execute_result",
          "data": {
            "text/plain": [
              "Unnamed: 0              int64\n",
              "branch_id               int64\n",
              "country                object\n",
              "parent_id               int64\n",
              "number_of_branches      int64\n",
              "number_of_countries     int64\n",
              "dtype: object"
            ]
          },
          "metadata": {
            "tags": []
          },
          "execution_count": 6
        }
      ]
    },
    {
      "cell_type": "code",
      "metadata": {
        "id": "fZc2u86xoebe",
        "colab": {
          "base_uri": "https://localhost:8080/"
        },
        "outputId": "5af3f878-54ea-4db2-c505-ebf4b36b8509"
      },
      "source": [
        "add_col_number_of_branches(df)"
      ],
      "execution_count": 7,
      "outputs": [
        {
          "output_type": "stream",
          "text": [
            "/usr/local/lib/python3.6/dist-packages/ipykernel_launcher.py:27: SettingWithCopyWarning: \n",
            "A value is trying to be set on a copy of a slice from a DataFrame\n",
            "\n",
            "See the caveats in the documentation: https://pandas.pydata.org/pandas-docs/stable/user_guide/indexing.html#returning-a-view-versus-a-copy\n"
          ],
          "name": "stderr"
        }
      ]
    },
    {
      "cell_type": "code",
      "metadata": {
        "colab": {
          "base_uri": "https://localhost:8080/"
        },
        "id": "Vi5ETeQYNEjS",
        "outputId": "212f7b2e-a0bf-419a-adb5-ab5520f8fd24"
      },
      "source": [
        "add_col_number_of_countries(df)"
      ],
      "execution_count": 8,
      "outputs": [
        {
          "output_type": "stream",
          "text": [
            "/usr/local/lib/python3.6/dist-packages/ipykernel_launcher.py:27: SettingWithCopyWarning: \n",
            "A value is trying to be set on a copy of a slice from a DataFrame\n",
            "\n",
            "See the caveats in the documentation: https://pandas.pydata.org/pandas-docs/stable/user_guide/indexing.html#returning-a-view-versus-a-copy\n"
          ],
          "name": "stderr"
        }
      ]
    },
    {
      "cell_type": "code",
      "metadata": {
        "id": "stsshrNANKO3"
      },
      "source": [
        "df.to_excel('Branches3.xlsx')"
      ],
      "execution_count": 9,
      "outputs": []
    },
    {
      "cell_type": "code",
      "metadata": {
        "id": "DIWD_v_WO_M2"
      },
      "source": [
        ""
      ],
      "execution_count": 9,
      "outputs": []
    }
  ]
}