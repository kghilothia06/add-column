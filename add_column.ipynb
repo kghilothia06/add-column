{
  "nbformat": 4,
  "nbformat_minor": 0,
  "metadata": {
    "colab": {
      "name": "add-column.ipynb",
      "provenance": []
    },
    "kernelspec": {
      "name": "python3",
      "display_name": "Python 3"
    }
  },
  "cells": [
    {
      "cell_type": "code",
      "metadata": {
        "id": "pC6rEXcOnap-"
      },
      "source": [
        "#functionality to add a new column\r\n",
        "#df is the dataframe for testing\r\n",
        "def add_col(df):\r\n",
        "  #initialize a dictionary with a tuple of 'branch_id' and 'parent_id' as key \r\n",
        "  vis = {}\r\n",
        "  for i in range(0,len(df)):\r\n",
        "    #set the value for each pair as 'False' as\r\n",
        "    #all are initially unvisited\r\n",
        "    vis[(df['branch_id'][i],df['parent_id'][i])] = False\r\n",
        "\r\n",
        "  #initialize a dictionary to keep track of frequency of occurence of each parent_id\r\n",
        "  freq={}\r\n",
        "  for i in df['parent_id']:\r\n",
        "    #initially all values are set to 0\r\n",
        "    freq[i] = 0\r\n",
        "\r\n",
        "  #traverse the 'branch_id' column to update frequencies of 'parent_id'\r\n",
        "  for i in range(0,len(df)):\r\n",
        "    #if pair is unvisited\r\n",
        "    if vis[(df['branch_id'][i],df['parent_id'][i])] == False:\r\n",
        "      #mark it visited and update freq for corresponding 'parent_id'\r\n",
        "      vis[(df['branch_id'][i],df['parent_id'][i])] = True\r\n",
        "      freq[df['parent_id'][i]] = freq[df['parent_id'][i]] + 1\r\n",
        "    \r\n",
        "  #updating the 'number_of_branches' column\r\n",
        "  for i in range(0,len(df)):\r\n",
        "    df['number_of_branches'][i] = freq[df['parent_id'][i]]\r\n",
        "\r\n",
        "\r\n",
        "  #return freq,vis"
      ],
      "execution_count": 132,
      "outputs": []
    },
    {
      "cell_type": "code",
      "metadata": {
        "id": "S5VEFGoZoXUP"
      },
      "source": [
        "import pandas as pd"
      ],
      "execution_count": 133,
      "outputs": []
    },
    {
      "cell_type": "code",
      "metadata": {
        "id": "ahIjoXGXoZvI"
      },
      "source": [
        "df = pd.read_excel('/content/Branches.xlsx')"
      ],
      "execution_count": 134,
      "outputs": []
    },
    {
      "cell_type": "code",
      "metadata": {
        "id": "8QnsHe3PumEY"
      },
      "source": [
        "#replace null values with 0\r\n",
        "df['number_of_branches'].fillna(0 , inplace=True)\r\n",
        "df['number_of_branches'] = df['number_of_branches'].astype(int)"
      ],
      "execution_count": 135,
      "outputs": []
    },
    {
      "cell_type": "code",
      "metadata": {
        "colab": {
          "base_uri": "https://localhost:8080/"
        },
        "id": "CLq4n3oeur9k",
        "outputId": "56d2e3a6-bfbe-48db-d946-4ae9a2efd94c"
      },
      "source": [
        "df.dtypes"
      ],
      "execution_count": 136,
      "outputs": [
        {
          "output_type": "execute_result",
          "data": {
            "text/plain": [
              "branch_id             int64\n",
              "parent_id             int64\n",
              "number_of_branches    int64\n",
              "dtype: object"
            ]
          },
          "metadata": {
            "tags": []
          },
          "execution_count": 136
        }
      ]
    },
    {
      "cell_type": "code",
      "metadata": {
        "id": "fZc2u86xoebe"
      },
      "source": [
        "add_col(df)"
      ],
      "execution_count": 137,
      "outputs": []
    },
    {
      "cell_type": "code",
      "metadata": {
        "id": "WaA_ztxsojFJ"
      },
      "source": [
        "df.to_excel('Branches1.xlsx')"
      ],
      "execution_count": 138,
      "outputs": []
    },
    {
      "cell_type": "code",
      "metadata": {
        "id": "2Y6X066hG-gc"
      },
      "source": [
        ""
      ],
      "execution_count": null,
      "outputs": []
    }
  ]
}